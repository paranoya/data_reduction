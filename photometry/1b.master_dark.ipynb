{
 "cells": [
  {
   "cell_type": "markdown",
   "id": "d8347503",
   "metadata": {},
   "source": [
    "# 1. Create master dark\n",
    "\n",
    "Let us also compute a single `master_dark` from all the individual `raw_dark_exposures` in the `raw_dark_folder` directory and save it as a FITS file called `master_dark_filename`.\n",
    "\n",
    "## Initialise parameters"
   ]
  },
  {
   "cell_type": "code",
   "execution_count": 1,
   "id": "7266a400",
   "metadata": {},
   "outputs": [],
   "source": [
    "import os  # to manipulate files and directories\n",
    "import numpy as np  # mathematics\n",
    "from astropy.io import fits  # FITS files\n",
    "from matplotlib import pyplot as plt  # plotting\n",
    "\n",
    "data_folder = '.'  # location of the observational data within your hard disk (by default, this directory)\n",
    "raw_dark_folder = os.path.join(data_folder, 'raw', 'dark')  # location of the bias file\n",
    "output_filename = os.path.join(data_folder, 'reduced', 'master_dark.fits')  # name of the file where you intend to save the master bias"
   ]
  },
  {
   "cell_type": "markdown",
   "id": "4aa23576",
   "metadata": {},
   "source": [
    "## Read raw exposures"
   ]
  },
  {
   "cell_type": "code",
   "execution_count": 2,
   "id": "4bf0ee47",
   "metadata": {},
   "outputs": [
    {
     "ename": "FileNotFoundError",
     "evalue": "[Errno 2] No such file or directory: './raw/dark'",
     "output_type": "error",
     "traceback": [
      "\u001b[0;31m---------------------------------------------------------------------------\u001b[0m",
      "\u001b[0;31mFileNotFoundError\u001b[0m                         Traceback (most recent call last)",
      "\u001b[0;32m/tmp/ipykernel_390172/2573742563.py\u001b[0m in \u001b[0;36m<module>\u001b[0;34m\u001b[0m\n\u001b[1;32m      1\u001b[0m \u001b[0mraw_dark_exposures\u001b[0m \u001b[0;34m=\u001b[0m \u001b[0;34m[\u001b[0m\u001b[0;34m]\u001b[0m  \u001b[0;31m# List containing all individual exposures\u001b[0m\u001b[0;34m\u001b[0m\u001b[0;34m\u001b[0m\u001b[0m\n\u001b[1;32m      2\u001b[0m \u001b[0;34m\u001b[0m\u001b[0m\n\u001b[0;32m----> 3\u001b[0;31m \u001b[0;32mfor\u001b[0m \u001b[0mfilename\u001b[0m \u001b[0;32min\u001b[0m \u001b[0mos\u001b[0m\u001b[0;34m.\u001b[0m\u001b[0mlistdir\u001b[0m\u001b[0;34m(\u001b[0m\u001b[0mraw_dark_folder\u001b[0m\u001b[0;34m)\u001b[0m\u001b[0;34m:\u001b[0m  \u001b[0;31m# Loop over all files in the directory\u001b[0m\u001b[0;34m\u001b[0m\u001b[0;34m\u001b[0m\u001b[0m\n\u001b[0m\u001b[1;32m      4\u001b[0m \u001b[0;34m\u001b[0m\u001b[0m\n\u001b[1;32m      5\u001b[0m     \u001b[0;32mif\u001b[0m \u001b[0mos\u001b[0m\u001b[0;34m.\u001b[0m\u001b[0mpath\u001b[0m\u001b[0;34m.\u001b[0m\u001b[0msplitext\u001b[0m\u001b[0;34m(\u001b[0m\u001b[0mfilename\u001b[0m\u001b[0;34m)\u001b[0m\u001b[0;34m[\u001b[0m\u001b[0;36m1\u001b[0m\u001b[0;34m]\u001b[0m \u001b[0;34m==\u001b[0m \u001b[0;34m'.fits'\u001b[0m\u001b[0;34m:\u001b[0m  \u001b[0;31m# FITS file extension\u001b[0m\u001b[0;34m\u001b[0m\u001b[0;34m\u001b[0m\u001b[0m\n",
      "\u001b[0;31mFileNotFoundError\u001b[0m: [Errno 2] No such file or directory: './raw/dark'"
     ]
    }
   ],
   "source": [
    "raw_dark_exposures = []  # List containing all individual exposures\n",
    "\n",
    "for filename in os.listdir(raw_dark_folder):  # Loop over all files in the directory\n",
    "    \n",
    "    if os.path.splitext(filename)[1] == '.fits':  # FITS file extension\n",
    "        print(\"Opening\", filename)\n",
    "        hdu = fits.open(os.path.join(raw_dark_folder, filename))  # HDU = Header/Data Unit (standard FITS nomenclature)\n",
    "        # Add the data and exposure times to the `raw_exposures` list\n",
    "        raw_dark_exposures.append((hdu[0].data, hdu[0].header['EXPTIME']))\n",
    "        '''\n",
    "        TODO:\n",
    "        - show individual exposures?\n",
    "        '''\n",
    "    else:\n",
    "        print(\"Skipping\", filename)\n",
    "\n",
    "n_files = len(raw_dark_exposures)\n",
    "print(n_files, \"files read\")"
   ]
  },
  {
   "cell_type": "markdown",
   "id": "7122ad8d-6479-4812-aaaa-75a92ae82fd2",
   "metadata": {},
   "source": [
    "## Compute master dark\n",
    "\n",
    "If there is just one exposure, there is not much to do. If there are more... (TODO: explanation)"
   ]
  },
  {
   "cell_type": "code",
   "execution_count": 6,
   "id": "65542b5d-806c-4e8e-8e46-ed60f2a897f5",
   "metadata": {},
   "outputs": [
    {
     "ename": "FileNotFoundError",
     "evalue": "No FITS files were found in ./raw/dark",
     "output_type": "error",
     "traceback": [
      "\u001b[0;31m---------------------------------------------------------------------------\u001b[0m",
      "\u001b[0;31mFileNotFoundError\u001b[0m                         Traceback (most recent call last)",
      "\u001b[0;32m/tmp/ipykernel_148010/4215087249.py\u001b[0m in \u001b[0;36m<module>\u001b[0;34m\u001b[0m\n\u001b[1;32m      1\u001b[0m \u001b[0;32mif\u001b[0m \u001b[0mn_files\u001b[0m \u001b[0;34m==\u001b[0m \u001b[0;36m0\u001b[0m\u001b[0;34m:\u001b[0m\u001b[0;34m\u001b[0m\u001b[0;34m\u001b[0m\u001b[0m\n\u001b[0;32m----> 2\u001b[0;31m     \u001b[0;32mraise\u001b[0m \u001b[0mFileNotFoundError\u001b[0m\u001b[0;34m(\u001b[0m\u001b[0;34m\"No FITS files were found in \"\u001b[0m\u001b[0;34m+\u001b[0m\u001b[0mraw_dark_folder\u001b[0m\u001b[0;34m)\u001b[0m\u001b[0;34m\u001b[0m\u001b[0;34m\u001b[0m\u001b[0m\n\u001b[0m\u001b[1;32m      3\u001b[0m \u001b[0;34m\u001b[0m\u001b[0m\n\u001b[1;32m      4\u001b[0m \u001b[0;32melse\u001b[0m\u001b[0;34m:\u001b[0m\u001b[0;34m\u001b[0m\u001b[0;34m\u001b[0m\u001b[0m\n\u001b[1;32m      5\u001b[0m     \u001b[0mdark_map\u001b[0m \u001b[0;34m=\u001b[0m \u001b[0mnp\u001b[0m\u001b[0;34m.\u001b[0m\u001b[0mnanmedian\u001b[0m\u001b[0;34m(\u001b[0m\u001b[0mraw_dark_exposures\u001b[0m\u001b[0;34m,\u001b[0m \u001b[0maxis\u001b[0m\u001b[0;34m=\u001b[0m\u001b[0;36m0\u001b[0m\u001b[0;34m)\u001b[0m\u001b[0;34m\u001b[0m\u001b[0;34m\u001b[0m\u001b[0m\n",
      "\u001b[0;31mFileNotFoundError\u001b[0m: No FITS files were found in ./raw/dark"
     ]
    }
   ],
   "source": [
    "if n_files == 0:\n",
    "    raise FileNotFoundError(\"No FITS files were found in \"+raw_dark_folder)\n",
    "\n",
    "else:\n",
    "    dark_map = np.nanmedian(raw_dark_exposures, axis=0)\n",
    "\n",
    "    '''\n",
    "    TODO: Decide whether a statistical tratment of the dark is needed\n",
    "    \n",
    "    if n_files == 1:\n",
    "        print(\"WARNING: only one bias file was found.\")\n",
    "\n",
    "    else:\n",
    "        noise_map = np.nanvar(raw_dark_exposures, axis=0)\n",
    "    \n",
    "        # Test whether the median bias map is uniform\n",
    "        map_median = np.nanmedian(dark_map)  # estimate of a uniform value accross the image\n",
    "        map_variance = np.nanvar(dark_map)  # map_variance = signal_variance + noise_variance\n",
    "        noise_variance = np.nanmedian(noise_map)  # estimator of the typical noise variance\n",
    "        signal_variance = map_variance - noise_variance\n",
    "        if signal_variance <= 0.:\n",
    "            probability_uniform = 1.\n",
    "        else:\n",
    "            probability_uniform = np.exp(-signal_variance/noise_variance)\n",
    "        uniform = map_median*np.ones_like(dark_map)\n",
    "        print(map_median, probability_uniform, signal_variance, noise_variance)\n",
    "        dark_map = probability_uniform*uniform + (1-probability_uniform)*dark_map  # weighted average\n",
    "    '''"
   ]
  },
  {
   "cell_type": "code",
   "execution_count": 7,
   "id": "eff7a5b4-97fb-4aa3-bb95-2c2a1ea25542",
   "metadata": {},
   "outputs": [
    {
     "ename": "NameError",
     "evalue": "name 'dark_map' is not defined",
     "output_type": "error",
     "traceback": [
      "\u001b[0;31m---------------------------------------------------------------------------\u001b[0m",
      "\u001b[0;31mNameError\u001b[0m                                 Traceback (most recent call last)",
      "\u001b[0;32m/tmp/ipykernel_148010/3383882883.py\u001b[0m in \u001b[0;36m<module>\u001b[0;34m\u001b[0m\n\u001b[1;32m      1\u001b[0m \u001b[0;31m# TODO: Proper plots\u001b[0m\u001b[0;34m\u001b[0m\u001b[0;34m\u001b[0m\u001b[0;34m\u001b[0m\u001b[0m\n\u001b[0;32m----> 2\u001b[0;31m \u001b[0mplt\u001b[0m\u001b[0;34m.\u001b[0m\u001b[0mimshow\u001b[0m\u001b[0;34m(\u001b[0m\u001b[0mdark_map\u001b[0m\u001b[0;34m,\u001b[0m \u001b[0morigin\u001b[0m\u001b[0;34m=\u001b[0m\u001b[0;34m'lower'\u001b[0m\u001b[0;34m,\u001b[0m \u001b[0mvmin\u001b[0m\u001b[0;34m=\u001b[0m\u001b[0mnp\u001b[0m\u001b[0;34m.\u001b[0m\u001b[0mnanpercentile\u001b[0m\u001b[0;34m(\u001b[0m\u001b[0mdark_map\u001b[0m\u001b[0;34m,\u001b[0m \u001b[0;36m5\u001b[0m\u001b[0;34m)\u001b[0m\u001b[0;34m,\u001b[0m \u001b[0mvmax\u001b[0m\u001b[0;34m=\u001b[0m\u001b[0mnp\u001b[0m\u001b[0;34m.\u001b[0m\u001b[0mnanpercentile\u001b[0m\u001b[0;34m(\u001b[0m\u001b[0mdark_map\u001b[0m\u001b[0;34m,\u001b[0m \u001b[0;36m95\u001b[0m\u001b[0;34m)\u001b[0m\u001b[0;34m)\u001b[0m\u001b[0;34m\u001b[0m\u001b[0;34m\u001b[0m\u001b[0m\n\u001b[0m\u001b[1;32m      3\u001b[0m \u001b[0mplt\u001b[0m\u001b[0;34m.\u001b[0m\u001b[0mtitle\u001b[0m\u001b[0;34m(\u001b[0m\u001b[0;34m'Master bias'\u001b[0m\u001b[0;34m)\u001b[0m\u001b[0;34m\u001b[0m\u001b[0;34m\u001b[0m\u001b[0m\n\u001b[1;32m      4\u001b[0m \u001b[0mplt\u001b[0m\u001b[0;34m.\u001b[0m\u001b[0mcolorbar\u001b[0m\u001b[0;34m(\u001b[0m\u001b[0;34m)\u001b[0m\u001b[0;34m\u001b[0m\u001b[0;34m\u001b[0m\u001b[0m\n\u001b[1;32m      5\u001b[0m \u001b[0mplt\u001b[0m\u001b[0;34m.\u001b[0m\u001b[0mshow\u001b[0m\u001b[0;34m(\u001b[0m\u001b[0;34m)\u001b[0m\u001b[0;34m\u001b[0m\u001b[0;34m\u001b[0m\u001b[0m\n",
      "\u001b[0;31mNameError\u001b[0m: name 'dark_map' is not defined"
     ]
    }
   ],
   "source": [
    "# TODO: Proper plots\n",
    "plt.imshow(dark_map, origin='lower', vmin=np.nanpercentile(dark_map, 5), vmax=np.nanpercentile(dark_map, 95))\n",
    "plt.title('Master bias')\n",
    "plt.colorbar()\n",
    "plt.show()"
   ]
  },
  {
   "cell_type": "code",
   "execution_count": 3,
   "id": "c967c0dc",
   "metadata": {},
   "outputs": [
    {
     "ename": "NameError",
     "evalue": "name 'dark_map' is not defined",
     "output_type": "error",
     "traceback": [
      "\u001b[0;31m---------------------------------------------------------------------------\u001b[0m",
      "\u001b[0;31mNameError\u001b[0m                                 Traceback (most recent call last)",
      "\u001b[0;32m/tmp/ipykernel_390172/401024511.py\u001b[0m in \u001b[0;36m<module>\u001b[0;34m\u001b[0m\n\u001b[0;32m----> 1\u001b[0;31m \u001b[0mhdu\u001b[0m \u001b[0;34m=\u001b[0m \u001b[0mfits\u001b[0m\u001b[0;34m.\u001b[0m\u001b[0mPrimaryHDU\u001b[0m\u001b[0;34m(\u001b[0m\u001b[0mdark_map\u001b[0m\u001b[0;34m)\u001b[0m\u001b[0;34m\u001b[0m\u001b[0;34m\u001b[0m\u001b[0m\n\u001b[0m\u001b[1;32m      2\u001b[0m \u001b[0mhdu\u001b[0m\u001b[0;34m.\u001b[0m\u001b[0mwriteto\u001b[0m\u001b[0;34m(\u001b[0m\u001b[0moutput_filename\u001b[0m\u001b[0;34m,\u001b[0m \u001b[0moverwrite\u001b[0m\u001b[0;34m=\u001b[0m\u001b[0;32mTrue\u001b[0m\u001b[0;34m)\u001b[0m\u001b[0;34m\u001b[0m\u001b[0;34m\u001b[0m\u001b[0m\n\u001b[1;32m      3\u001b[0m \u001b[0mprint\u001b[0m\u001b[0;34m(\u001b[0m\u001b[0;34m\"Master dark saved to\"\u001b[0m\u001b[0;34m,\u001b[0m \u001b[0moutput_filename\u001b[0m\u001b[0;34m)\u001b[0m\u001b[0;34m\u001b[0m\u001b[0;34m\u001b[0m\u001b[0m\n",
      "\u001b[0;31mNameError\u001b[0m: name 'dark_map' is not defined"
     ]
    }
   ],
   "source": [
    "hdu = fits.PrimaryHDU(dark_map)\n",
    "hdu.writeto(output_filename, overwrite=True)\n",
    "print(\"Master dark saved to\", output_filename)"
   ]
  },
  {
   "cell_type": "code",
   "execution_count": null,
   "id": "b5a08f59-55b8-4978-b8af-e0594e54b9d1",
   "metadata": {},
   "outputs": [],
   "source": []
  }
 ],
 "metadata": {
  "kernelspec": {
   "display_name": "Python 3 (ipykernel)",
   "language": "python",
   "name": "python3"
  },
  "language_info": {
   "codemirror_mode": {
    "name": "ipython",
    "version": 3
   },
   "file_extension": ".py",
   "mimetype": "text/x-python",
   "name": "python",
   "nbconvert_exporter": "python",
   "pygments_lexer": "ipython3",
   "version": "3.8.10"
  }
 },
 "nbformat": 4,
 "nbformat_minor": 5
}
